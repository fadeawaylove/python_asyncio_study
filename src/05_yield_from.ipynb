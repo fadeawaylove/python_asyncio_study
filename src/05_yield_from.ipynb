{
 "cells": [
  {
   "cell_type": "markdown",
   "metadata": {},
   "source": [
    "[https://peps.python.org/pep-0380/](https://peps.python.org/pep-0380/)\n",
    "\n",
    "```python\n",
    "RESULT = yield from EXPR\n",
    "\n",
    "# is semantically equivalent to\n",
    "def yield_from(EXPR):\n",
    "    _i = iter(EXPR)\n",
    "    try:\n",
    "        _y = next(_i)\n",
    "    except StopIteration as _e:\n",
    "        _r = _e.value\n",
    "    else:\n",
    "        while 1:\n",
    "            try:\n",
    "                _s = yield _y\n",
    "            except GeneratorExit as _e:\n",
    "                try:\n",
    "                    _m = _i.close\n",
    "                except AttributeError:\n",
    "                    pass\n",
    "                else:\n",
    "                    _m()\n",
    "                raise _e\n",
    "            except BaseException as _e:\n",
    "                _x = sys.exc_info()\n",
    "                try:\n",
    "                    _m = _i.throw\n",
    "                except AttributeError:\n",
    "                    raise _e\n",
    "                else:\n",
    "                    try:\n",
    "                        _y = _m(*_x)\n",
    "                    except StopIteration as _e:\n",
    "                        _r = _e.value\n",
    "                        break\n",
    "            else:\n",
    "                try:\n",
    "                    if _s is None:\n",
    "                        _y = next(_i)\n",
    "                    else:\n",
    "                        _y = _i.send(_s)\n",
    "                except StopIteration as _e:\n",
    "                    _r = _e.value\n",
    "                    break\n",
    "    RESULT = _r\n",
    "\n",
    "```\n",
    "\n",
    "> 可以看出，yield from 后面的表达式需要是一个可迭代对象\n"
   ]
  },
  {
   "cell_type": "markdown",
   "metadata": {},
   "source": [
    "## 从yield到yield from"
   ]
  },
  {
   "cell_type": "markdown",
   "metadata": {},
   "source": [
    "### 基础嵌套任务"
   ]
  },
  {
   "cell_type": "code",
   "execution_count": 25,
   "metadata": {},
   "outputs": [],
   "source": [
    "def one_task():\n",
    "    print(\"begin task\")\n",
    "    print(\"     begin big_step\")\n",
    "    big_result = big_step()\n",
    "    print(f\"    end big_step {big_result}\")\n",
    "    print(\"end task\")\n",
    "\n",
    "def big_step():\n",
    "    print(f\"        begin small_step\")\n",
    "    small_result = small_step()\n",
    "    print(f\"        end small_step with {small_result}\")\n",
    "    return small_result * 1000\n",
    "\n",
    "def small_step():\n",
    "    print(\"         努力工作\")\n",
    "    return 123"
   ]
  },
  {
   "cell_type": "code",
   "execution_count": 4,
   "metadata": {},
   "outputs": [
    {
     "name": "stdout",
     "output_type": "stream",
     "text": [
      "begin task\n",
      "     begin big_step\n",
      "        begin small_step\n",
      "         努力工作\n",
      "        end small_step with 123\n",
      "    end big_step 123000\n",
      "end task\n"
     ]
    }
   ],
   "source": [
    "one_task()"
   ]
  },
  {
   "cell_type": "code",
   "execution_count": 7,
   "metadata": {},
   "outputs": [
    {
     "name": "stdout",
     "output_type": "stream",
     "text": [
      "begin task\n",
      "     begin big_step\n",
      "        begin small_step\n",
      "         休息一下\n",
      "         努力工作\n",
      "        end small_step with 123\n",
      "    end big_step 123000\n",
      "end task\n"
     ]
    }
   ],
   "source": [
    "# time.sleep 模拟耗时阻塞\n",
    "import time\n",
    "\n",
    "def small_step():\n",
    "    print(\"         休息一下\")\n",
    "    time.sleep(2)\n",
    "    print(\"         努力工作\")\n",
    "    return 123\n",
    "\n",
    "one_task()"
   ]
  },
  {
   "cell_type": "markdown",
   "metadata": {},
   "source": [
    "### 任务改写01\n",
    "\n",
    "> small_step加上yield"
   ]
  },
  {
   "cell_type": "code",
   "execution_count": 26,
   "metadata": {},
   "outputs": [
    {
     "name": "stdout",
     "output_type": "stream",
     "text": [
      "begin task\n",
      "     begin big_step\n",
      "        begin small_step\n",
      "        end small_step with <generator object small_step at 0x10da6a510>\n"
     ]
    },
    {
     "ename": "TypeError",
     "evalue": "unsupported operand type(s) for *: 'generator' and 'int'",
     "output_type": "error",
     "traceback": [
      "\u001b[0;31m---------------------------------------------------------------------------\u001b[0m",
      "\u001b[0;31mTypeError\u001b[0m                                 Traceback (most recent call last)",
      "\u001b[1;32m/Users/dengrunting/data/code/python_asyncio_study/src/05_yield_from.ipynb Cell 8'\u001b[0m in \u001b[0;36m<cell line: 7>\u001b[0;34m()\u001b[0m\n\u001b[1;32m      <a href='vscode-notebook-cell:/Users/dengrunting/data/code/python_asyncio_study/src/05_yield_from.ipynb#ch0000008?line=3'>4</a>\u001b[0m     \u001b[39mprint\u001b[39m(\u001b[39m\"\u001b[39m\u001b[39m         努力工作\u001b[39m\u001b[39m\"\u001b[39m)\n\u001b[1;32m      <a href='vscode-notebook-cell:/Users/dengrunting/data/code/python_asyncio_study/src/05_yield_from.ipynb#ch0000008?line=4'>5</a>\u001b[0m     \u001b[39mreturn\u001b[39;00m \u001b[39m123\u001b[39m\n\u001b[0;32m----> <a href='vscode-notebook-cell:/Users/dengrunting/data/code/python_asyncio_study/src/05_yield_from.ipynb#ch0000008?line=6'>7</a>\u001b[0m one_task()\n",
      "\u001b[1;32m/Users/dengrunting/data/code/python_asyncio_study/src/05_yield_from.ipynb Cell 4'\u001b[0m in \u001b[0;36mone_task\u001b[0;34m()\u001b[0m\n\u001b[1;32m      <a href='vscode-notebook-cell:/Users/dengrunting/data/code/python_asyncio_study/src/05_yield_from.ipynb#ch0000004?line=1'>2</a>\u001b[0m \u001b[39mprint\u001b[39m(\u001b[39m\"\u001b[39m\u001b[39mbegin task\u001b[39m\u001b[39m\"\u001b[39m)\n\u001b[1;32m      <a href='vscode-notebook-cell:/Users/dengrunting/data/code/python_asyncio_study/src/05_yield_from.ipynb#ch0000004?line=2'>3</a>\u001b[0m \u001b[39mprint\u001b[39m(\u001b[39m\"\u001b[39m\u001b[39m     begin big_step\u001b[39m\u001b[39m\"\u001b[39m)\n\u001b[0;32m----> <a href='vscode-notebook-cell:/Users/dengrunting/data/code/python_asyncio_study/src/05_yield_from.ipynb#ch0000004?line=3'>4</a>\u001b[0m big_result \u001b[39m=\u001b[39m big_step()\n\u001b[1;32m      <a href='vscode-notebook-cell:/Users/dengrunting/data/code/python_asyncio_study/src/05_yield_from.ipynb#ch0000004?line=4'>5</a>\u001b[0m \u001b[39mprint\u001b[39m(\u001b[39mf\u001b[39m\u001b[39m\"\u001b[39m\u001b[39m    end big_step \u001b[39m\u001b[39m{\u001b[39;00mbig_result\u001b[39m}\u001b[39;00m\u001b[39m\"\u001b[39m)\n\u001b[1;32m      <a href='vscode-notebook-cell:/Users/dengrunting/data/code/python_asyncio_study/src/05_yield_from.ipynb#ch0000004?line=5'>6</a>\u001b[0m \u001b[39mprint\u001b[39m(\u001b[39m\"\u001b[39m\u001b[39mend task\u001b[39m\u001b[39m\"\u001b[39m)\n",
      "\u001b[1;32m/Users/dengrunting/data/code/python_asyncio_study/src/05_yield_from.ipynb Cell 4'\u001b[0m in \u001b[0;36mbig_step\u001b[0;34m()\u001b[0m\n\u001b[1;32m     <a href='vscode-notebook-cell:/Users/dengrunting/data/code/python_asyncio_study/src/05_yield_from.ipynb#ch0000004?line=9'>10</a>\u001b[0m small_result \u001b[39m=\u001b[39m small_step()\n\u001b[1;32m     <a href='vscode-notebook-cell:/Users/dengrunting/data/code/python_asyncio_study/src/05_yield_from.ipynb#ch0000004?line=10'>11</a>\u001b[0m \u001b[39mprint\u001b[39m(\u001b[39mf\u001b[39m\u001b[39m\"\u001b[39m\u001b[39m        end small_step with \u001b[39m\u001b[39m{\u001b[39;00msmall_result\u001b[39m}\u001b[39;00m\u001b[39m\"\u001b[39m)\n\u001b[0;32m---> <a href='vscode-notebook-cell:/Users/dengrunting/data/code/python_asyncio_study/src/05_yield_from.ipynb#ch0000004?line=11'>12</a>\u001b[0m \u001b[39mreturn\u001b[39;00m small_result \u001b[39m*\u001b[39;49m \u001b[39m1000\u001b[39;49m\n",
      "\u001b[0;31mTypeError\u001b[0m: unsupported operand type(s) for *: 'generator' and 'int'"
     ]
    }
   ],
   "source": [
    "def small_step():\n",
    "    print(\"         休息一下\")\n",
    "    yield time.sleep(2)\n",
    "    print(\"         努力工作\")\n",
    "    return 123\n",
    "\n",
    "one_task()"
   ]
  },
  {
   "cell_type": "markdown",
   "metadata": {},
   "source": [
    "> 运行失败，因为yield具有传染性"
   ]
  },
  {
   "cell_type": "markdown",
   "metadata": {},
   "source": [
    "### 任务改写02\n",
    "\n",
    "> big_step接收small_step的值"
   ]
  },
  {
   "cell_type": "code",
   "execution_count": 22,
   "metadata": {},
   "outputs": [
    {
     "data": {
      "text/plain": [
       "<generator object one_task at 0x10da6a120>"
      ]
     },
     "execution_count": 22,
     "metadata": {},
     "output_type": "execute_result"
    }
   ],
   "source": [
    "def big_step():\n",
    "    print(f\"        begin small_step\")\n",
    "    small_coro = small_step()  # 接收返回的生成器\n",
    "    while True:\n",
    "        try:\n",
    "            x = small_coro.send(None)\n",
    "        except StopIteration as e:\n",
    "            small_result = e.value\n",
    "            break\n",
    "        else:\n",
    "            pass\n",
    "\n",
    "    print(f\"        end small_step with {small_result}\")\n",
    "    return small_result * 1000\n",
    "\n",
    "one_task()\n"
   ]
  },
  {
   "cell_type": "markdown",
   "metadata": {},
   "source": [
    "### 任务改写03\n",
    "\n",
    "> yield改为yield from"
   ]
  },
  {
   "cell_type": "code",
   "execution_count": 30,
   "metadata": {},
   "outputs": [
    {
     "name": "stdout",
     "output_type": "stream",
     "text": [
      "begin task\n",
      "     begin big_step\n",
      "    end big_step <generator object big_step at 0x10da6a2e0>\n",
      "end task\n"
     ]
    }
   ],
   "source": [
    "def big_step():\n",
    "    print(f\"        begin small_step\")\n",
    "    small_result = yield from small_step()\n",
    "    print(f\"        end small_step with {small_result}\")\n",
    "    return small_result * 1000\n",
    "\n",
    "one_task()"
   ]
  },
  {
   "cell_type": "code",
   "execution_count": 31,
   "metadata": {},
   "outputs": [
    {
     "data": {
      "text/plain": [
       "<generator object one_task at 0x10da6add0>"
      ]
     },
     "execution_count": 31,
     "metadata": {},
     "output_type": "execute_result"
    }
   ],
   "source": [
    "def one_task():\n",
    "    print(\"begin task\")\n",
    "    print(\"     begin big_step\")\n",
    "    big_result = yield from big_step()\n",
    "    print(f\"    end big_step {big_result}\")\n",
    "    print(\"end task\")\n",
    "\n",
    "one_task()"
   ]
  },
  {
   "cell_type": "code",
   "execution_count": 32,
   "metadata": {},
   "outputs": [
    {
     "name": "stdout",
     "output_type": "stream",
     "text": [
      "-----\n",
      "begin task\n",
      "     begin big_step\n",
      "        begin small_step\n",
      "         休息一下\n",
      "         努力工作\n",
      "        end small_step with 123\n",
      "    end big_step 123000\n",
      "end task\n",
      "----- None\n"
     ]
    }
   ],
   "source": [
    "class Task:\n",
    "    def __init__(self, coro):\n",
    "        self.coro = coro\n",
    "\n",
    "    def run(self):\n",
    "        print(\"-----\")\n",
    "        while True:\n",
    "            try:\n",
    "                x = self.coro.send(None)\n",
    "            except StopIteration as e:\n",
    "                result = e.value\n",
    "                break\n",
    "            else:\n",
    "                # x?\n",
    "                result = x\n",
    "        print(f\"----- {result}\")\n",
    "\n",
    "\n",
    "t = Task(one_task())\n",
    "t.run()"
   ]
  }
 ],
 "metadata": {
  "kernelspec": {
   "display_name": "Python 3.8.11 64-bit ('3.8.11')",
   "language": "python",
   "name": "python3"
  },
  "language_info": {
   "codemirror_mode": {
    "name": "ipython",
    "version": 3
   },
   "file_extension": ".py",
   "mimetype": "text/x-python",
   "name": "python",
   "nbconvert_exporter": "python",
   "pygments_lexer": "ipython3",
   "version": "3.8.11"
  },
  "orig_nbformat": 4,
  "vscode": {
   "interpreter": {
    "hash": "8b94c2bc7e81cd0038cb7e06897b1618b6bb42bfc206d448f81f21152d0e39dd"
   }
  }
 },
 "nbformat": 4,
 "nbformat_minor": 2
}
