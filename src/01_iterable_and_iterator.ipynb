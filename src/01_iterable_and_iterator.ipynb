{
 "cells": [
  {
   "cell_type": "markdown",
   "metadata": {},
   "source": [
    "## 可迭代对象\n",
    "\n",
    "> 简单理解：可以被for遍历的对象     \n",
    "> 代码层面：如果一个对象实现了__iter__方法，那么这个对象就是可迭代对象"
   ]
  },
  {
   "cell_type": "code",
   "execution_count": 1,
   "metadata": {},
   "outputs": [
    {
     "name": "stdout",
     "output_type": "stream",
     "text": [
      "可\n",
      "迭\n",
      "代\n",
      "对\n",
      "象\n"
     ]
    }
   ],
   "source": [
    "for x in \"可迭代对象\":\n",
    "    print(x)"
   ]
  },
  {
   "cell_type": "markdown",
   "metadata": {},
   "source": [
    "## 共同点\n",
    "\n",
    "> 可迭代对象之间的共同点，可以通过`dir`方法来查看"
   ]
  },
  {
   "cell_type": "code",
   "execution_count": 7,
   "metadata": {},
   "outputs": [],
   "source": [
    "def common_attrs_of_iterable(*iterables):\n",
    "    res = set()\n",
    "    for iterable in iterables:\n",
    "        if not res:\n",
    "            res = set(dir(iterable))\n",
    "        else:\n",
    "            res &= set(dir(iterable))\n",
    "    res -= set(dir(object))\n",
    "    return res"
   ]
  },
  {
   "cell_type": "code",
   "execution_count": 12,
   "metadata": {},
   "outputs": [
    {
     "name": "stdout",
     "output_type": "stream",
     "text": [
      "{'__iter__'}\n"
     ]
    }
   ],
   "source": [
    "import sys\n",
    "iterables = (\"asada\", [\"1\",\"2\",3], {\"1\": 2}, set(), open(sys.argv[0]))\n",
    "common_attrs = common_attrs_of_iterable(*iterables)\n",
    "print(common_attrs)\n"
   ]
  },
  {
   "cell_type": "markdown",
   "metadata": {},
   "source": [
    "## iter方法\n",
    "> 使用内建方法`iter`作用于可迭代对象，会发生什么？"
   ]
  },
  {
   "cell_type": "code",
   "execution_count": 13,
   "metadata": {},
   "outputs": [
    {
     "name": "stdout",
     "output_type": "stream",
     "text": [
      "<str_iterator object at 0x7fc774900c70>\n",
      "<list_iterator object at 0x7fc774900c70>\n",
      "<dict_keyiterator object at 0x7fc77519e180>\n",
      "<set_iterator object at 0x7fc7743f7640>\n",
      "<_io.TextIOWrapper name='/Users/dengrunting/miniconda3/lib/python3.9/site-packages/ipykernel_launcher.py' mode='r' encoding='UTF-8'>\n"
     ]
    }
   ],
   "source": [
    "for iterable in iterables:\n",
    "    print(iter(iterable))"
   ]
  },
  {
   "cell_type": "markdown",
   "metadata": {},
   "source": [
    "可以发现，`iter`方法作用于可迭代对象，返回了一个迭代器对象。"
   ]
  },
  {
   "cell_type": "markdown",
   "metadata": {},
   "source": [
    "## 迭代器\n",
    "> 迭代器又有什么共同属性呢？"
   ]
  },
  {
   "cell_type": "code",
   "execution_count": 14,
   "metadata": {},
   "outputs": [
    {
     "name": "stdout",
     "output_type": "stream",
     "text": [
      "{'__iter__', '__next__'}\n"
     ]
    }
   ],
   "source": [
    "iterators = [iter(iterable) for iterable in iterables]\n",
    "r = common_attrs_of_iterable(*iterators)\n",
    "print(r)"
   ]
  },
  {
   "cell_type": "markdown",
   "metadata": {},
   "source": [
    "如何手动迭代？\n",
    "> 1.构建迭代器iter(iterable)    \n",
    "> 2.迭代next(iterator)取值  \n",
    "> 3.捕获StopIteration异常结束迭代   "
   ]
  },
  {
   "cell_type": "code",
   "execution_count": 26,
   "metadata": {},
   "outputs": [
    {
     "name": "stdout",
     "output_type": "stream",
     "text": [
      "<list_iterator object at 0x7fc774857940>\n"
     ]
    }
   ],
   "source": [
    "actions = [\"唱跳\", \"Rap\", \"篮球\"]\n",
    "action_iterator = iter(actions)\n",
    "print(action_iterator)"
   ]
  },
  {
   "cell_type": "code",
   "execution_count": 27,
   "metadata": {},
   "outputs": [
    {
     "data": {
      "text/plain": [
       "'唱跳'"
      ]
     },
     "execution_count": 27,
     "metadata": {},
     "output_type": "execute_result"
    }
   ],
   "source": [
    "next(action_iterator)"
   ]
  },
  {
   "cell_type": "code",
   "execution_count": 28,
   "metadata": {},
   "outputs": [
    {
     "data": {
      "text/plain": [
       "'Rap'"
      ]
     },
     "execution_count": 28,
     "metadata": {},
     "output_type": "execute_result"
    }
   ],
   "source": [
    "next(action_iterator)\n"
   ]
  },
  {
   "cell_type": "code",
   "execution_count": 29,
   "metadata": {},
   "outputs": [
    {
     "data": {
      "text/plain": [
       "'篮球'"
      ]
     },
     "execution_count": 29,
     "metadata": {},
     "output_type": "execute_result"
    }
   ],
   "source": [
    "next(action_iterator)\n"
   ]
  },
  {
   "cell_type": "code",
   "execution_count": 30,
   "metadata": {},
   "outputs": [
    {
     "ename": "StopIteration",
     "evalue": "",
     "output_type": "error",
     "traceback": [
      "\u001b[0;31m---------------------------------------------------------------------------\u001b[0m",
      "\u001b[0;31mStopIteration\u001b[0m                             Traceback (most recent call last)",
      "\u001b[1;32m/Users/dengrunting/data/code/python_asyncio_study/01_可迭代对象_迭代器/01_可迭代对象.ipynb Cell 16'\u001b[0m in \u001b[0;36m<cell line: 1>\u001b[0;34m()\u001b[0m\n\u001b[0;32m----> <a href='vscode-notebook-cell:/Users/dengrunting/data/code/python_asyncio_study/01_%E5%8F%AF%E8%BF%AD%E4%BB%A3%E5%AF%B9%E8%B1%A1_%E8%BF%AD%E4%BB%A3%E5%99%A8/01_%E5%8F%AF%E8%BF%AD%E4%BB%A3%E5%AF%B9%E8%B1%A1.ipynb#ch0000015?line=0'>1</a>\u001b[0m \u001b[39mnext\u001b[39;49m(action_iterator)\n",
      "\u001b[0;31mStopIteration\u001b[0m: "
     ]
    }
   ],
   "source": [
    "next(action_iterator)"
   ]
  },
  {
   "cell_type": "markdown",
   "metadata": {},
   "source": [
    "## 自定义迭代器"
   ]
  },
  {
   "cell_type": "code",
   "execution_count": 31,
   "metadata": {},
   "outputs": [],
   "source": [
    "class CustomIterator:\n",
    "    def __init__(self, actions):\n",
    "        self.actions = actions\n",
    "        self.index = 0\n",
    "    \n",
    "    def __next__(self):\n",
    "        while self.index < len(self.actions):\n",
    "            action =  self.actions[self.index]\n",
    "            self.index += 1\n",
    "            return action\n",
    "        raise StopIteration\n"
   ]
  },
  {
   "cell_type": "code",
   "execution_count": 32,
   "metadata": {},
   "outputs": [
    {
     "name": "stdout",
     "output_type": "stream",
     "text": [
      "唱跳\n",
      "Rap\n",
      "篮球\n"
     ]
    },
    {
     "ename": "StopIteration",
     "evalue": "",
     "output_type": "error",
     "traceback": [
      "\u001b[0;31m---------------------------------------------------------------------------\u001b[0m",
      "\u001b[0;31mStopIteration\u001b[0m                             Traceback (most recent call last)",
      "\u001b[1;32m/Users/dengrunting/data/code/python_asyncio_study/01_可迭代对象_迭代器/01_可迭代对象.ipynb Cell 19'\u001b[0m in \u001b[0;36m<cell line: 3>\u001b[0;34m()\u001b[0m\n\u001b[1;32m      <a href='vscode-notebook-cell:/Users/dengrunting/data/code/python_asyncio_study/01_%E5%8F%AF%E8%BF%AD%E4%BB%A3%E5%AF%B9%E8%B1%A1_%E8%BF%AD%E4%BB%A3%E5%99%A8/01_%E5%8F%AF%E8%BF%AD%E4%BB%A3%E5%AF%B9%E8%B1%A1.ipynb#ch0000018?line=0'>1</a>\u001b[0m custom_iterator \u001b[39m=\u001b[39m CustomIterator(actions)\n\u001b[1;32m      <a href='vscode-notebook-cell:/Users/dengrunting/data/code/python_asyncio_study/01_%E5%8F%AF%E8%BF%AD%E4%BB%A3%E5%AF%B9%E8%B1%A1_%E8%BF%AD%E4%BB%A3%E5%99%A8/01_%E5%8F%AF%E8%BF%AD%E4%BB%A3%E5%AF%B9%E8%B1%A1.ipynb#ch0000018?line=1'>2</a>\u001b[0m \u001b[39mwhile\u001b[39;00m \u001b[39mTrue\u001b[39;00m:\n\u001b[0;32m----> <a href='vscode-notebook-cell:/Users/dengrunting/data/code/python_asyncio_study/01_%E5%8F%AF%E8%BF%AD%E4%BB%A3%E5%AF%B9%E8%B1%A1_%E8%BF%AD%E4%BB%A3%E5%99%A8/01_%E5%8F%AF%E8%BF%AD%E4%BB%A3%E5%AF%B9%E8%B1%A1.ipynb#ch0000018?line=2'>3</a>\u001b[0m     \u001b[39mprint\u001b[39m(\u001b[39mnext\u001b[39;49m(custom_iterator))\n",
      "\u001b[1;32m/Users/dengrunting/data/code/python_asyncio_study/01_可迭代对象_迭代器/01_可迭代对象.ipynb Cell 18'\u001b[0m in \u001b[0;36mCustomIterator.__next__\u001b[0;34m(self)\u001b[0m\n\u001b[1;32m      <a href='vscode-notebook-cell:/Users/dengrunting/data/code/python_asyncio_study/01_%E5%8F%AF%E8%BF%AD%E4%BB%A3%E5%AF%B9%E8%B1%A1_%E8%BF%AD%E4%BB%A3%E5%99%A8/01_%E5%8F%AF%E8%BF%AD%E4%BB%A3%E5%AF%B9%E8%B1%A1.ipynb#ch0000016?line=8'>9</a>\u001b[0m     \u001b[39mself\u001b[39m\u001b[39m.\u001b[39mindex \u001b[39m+\u001b[39m\u001b[39m=\u001b[39m \u001b[39m1\u001b[39m\n\u001b[1;32m     <a href='vscode-notebook-cell:/Users/dengrunting/data/code/python_asyncio_study/01_%E5%8F%AF%E8%BF%AD%E4%BB%A3%E5%AF%B9%E8%B1%A1_%E8%BF%AD%E4%BB%A3%E5%99%A8/01_%E5%8F%AF%E8%BF%AD%E4%BB%A3%E5%AF%B9%E8%B1%A1.ipynb#ch0000016?line=9'>10</a>\u001b[0m     \u001b[39mreturn\u001b[39;00m action\n\u001b[0;32m---> <a href='vscode-notebook-cell:/Users/dengrunting/data/code/python_asyncio_study/01_%E5%8F%AF%E8%BF%AD%E4%BB%A3%E5%AF%B9%E8%B1%A1_%E8%BF%AD%E4%BB%A3%E5%99%A8/01_%E5%8F%AF%E8%BF%AD%E4%BB%A3%E5%AF%B9%E8%B1%A1.ipynb#ch0000016?line=10'>11</a>\u001b[0m \u001b[39mraise\u001b[39;00m \u001b[39mStopIteration\u001b[39;00m\n",
      "\u001b[0;31mStopIteration\u001b[0m: "
     ]
    }
   ],
   "source": [
    "custom_iterator = CustomIterator(actions)\n",
    "while True:\n",
    "    print(next(custom_iterator))"
   ]
  },
  {
   "cell_type": "code",
   "execution_count": 34,
   "metadata": {},
   "outputs": [
    {
     "ename": "TypeError",
     "evalue": "'CustomIterator' object is not iterable",
     "output_type": "error",
     "traceback": [
      "\u001b[0;31m---------------------------------------------------------------------------\u001b[0m",
      "\u001b[0;31mTypeError\u001b[0m                                 Traceback (most recent call last)",
      "\u001b[1;32m/Users/dengrunting/data/code/python_asyncio_study/01_可迭代对象_迭代器/01_可迭代对象.ipynb Cell 20'\u001b[0m in \u001b[0;36m<cell line: 2>\u001b[0;34m()\u001b[0m\n\u001b[1;32m      <a href='vscode-notebook-cell:/Users/dengrunting/data/code/python_asyncio_study/01_%E5%8F%AF%E8%BF%AD%E4%BB%A3%E5%AF%B9%E8%B1%A1_%E8%BF%AD%E4%BB%A3%E5%99%A8/01_%E5%8F%AF%E8%BF%AD%E4%BB%A3%E5%AF%B9%E8%B1%A1.ipynb#ch0000019?line=0'>1</a>\u001b[0m custom_iterator \u001b[39m=\u001b[39m CustomIterator(actions)\n\u001b[0;32m----> <a href='vscode-notebook-cell:/Users/dengrunting/data/code/python_asyncio_study/01_%E5%8F%AF%E8%BF%AD%E4%BB%A3%E5%AF%B9%E8%B1%A1_%E8%BF%AD%E4%BB%A3%E5%99%A8/01_%E5%8F%AF%E8%BF%AD%E4%BB%A3%E5%AF%B9%E8%B1%A1.ipynb#ch0000019?line=1'>2</a>\u001b[0m \u001b[39mfor\u001b[39;00m x \u001b[39min\u001b[39;00m custom_iterator:\n\u001b[1;32m      <a href='vscode-notebook-cell:/Users/dengrunting/data/code/python_asyncio_study/01_%E5%8F%AF%E8%BF%AD%E4%BB%A3%E5%AF%B9%E8%B1%A1_%E8%BF%AD%E4%BB%A3%E5%99%A8/01_%E5%8F%AF%E8%BF%AD%E4%BB%A3%E5%AF%B9%E8%B1%A1.ipynb#ch0000019?line=2'>3</a>\u001b[0m     \u001b[39mprint\u001b[39m(x)\n",
      "\u001b[0;31mTypeError\u001b[0m: 'CustomIterator' object is not iterable"
     ]
    }
   ],
   "source": [
    "custom_iterator = CustomIterator(actions)\n",
    "for x in custom_iterator:\n",
    "    print(x)"
   ]
  },
  {
   "cell_type": "code",
   "execution_count": 40,
   "metadata": {},
   "outputs": [
    {
     "name": "stdout",
     "output_type": "stream",
     "text": [
      "唱跳\n",
      "Rap\n",
      "篮球\n"
     ]
    }
   ],
   "source": [
    "# 完善一下\n",
    "class CustomIterator:\n",
    "    def __init__(self, actions):\n",
    "        self.actions = actions\n",
    "        self.index = 0\n",
    "    \n",
    "    def __next__(self):\n",
    "        while self.index < len(self.actions):\n",
    "            action =  self.actions[self.index]\n",
    "            self.index += 1\n",
    "            return action\n",
    "        raise StopIteration\n",
    "    \n",
    "    def __iter__(self):\n",
    "        return self\n",
    "\n",
    "for x in CustomIterator(actions):\n",
    "    print(x)\n"
   ]
  },
  {
   "cell_type": "code",
   "execution_count": 41,
   "metadata": {},
   "outputs": [
    {
     "name": "stdout",
     "output_type": "stream",
     "text": [
      "0.06435813021971737\n",
      "0.2144483936899949\n",
      "0.24559350931794033\n",
      "0.17849055417875714\n",
      "0.8727538068816361\n",
      "0.8953005287111883\n",
      "0.7076507538446267\n",
      "0.8494348204984379\n",
      "0.7814125635851696\n",
      "0.8251812495344557\n",
      "0.3746587669471799\n",
      "0.11553346055459046\n",
      "0.5216663041425069\n",
      "0.39381693970140075\n",
      "0.7774707884145763\n"
     ]
    }
   ],
   "source": [
    "# 无限产生数据\n",
    "from random import random\n",
    "\n",
    "class Random:\n",
    "\n",
    "    def __iter__(self):\n",
    "        return self\n",
    "    \n",
    "    def __next__(self):\n",
    "        return random()\n",
    "i = 0\n",
    "for x in Random():\n",
    "    print(x)\n",
    "    i += 1\n",
    "    if i == 15:\n",
    "        break"
   ]
  },
  {
   "cell_type": "markdown",
   "metadata": {},
   "source": [
    "## 总结\n",
    "> 可迭代对象: `__iter__`    \n",
    "> 迭代器: `__iter__`和`__next__`\n",
    "\n",
    "![迭代器协议](https://raw.githubusercontent.com/fadeawaylove/article-images/master/img/20220630152935.png)\n"
   ]
  },
  {
   "cell_type": "markdown",
   "metadata": {},
   "source": []
  }
 ],
 "metadata": {
  "kernelspec": {
   "display_name": "Python 3.9.12 ('base')",
   "language": "python",
   "name": "python3"
  },
  "language_info": {
   "codemirror_mode": {
    "name": "ipython",
    "version": 3
   },
   "file_extension": ".py",
   "mimetype": "text/x-python",
   "name": "python",
   "nbconvert_exporter": "python",
   "pygments_lexer": "ipython3",
   "version": "3.9.12"
  },
  "orig_nbformat": 4,
  "vscode": {
   "interpreter": {
    "hash": "a32b7d253e12492c038efbc624006d102b0d290a52d9297b9fabe3b230952e2b"
   }
  }
 },
 "nbformat": 4,
 "nbformat_minor": 2
}
