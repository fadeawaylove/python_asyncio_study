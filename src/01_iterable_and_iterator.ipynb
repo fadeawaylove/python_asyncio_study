{
 "cells": [
  {
   "cell_type": "markdown",
   "metadata": {},
   "source": [
    "## 可迭代对象\n",
    "\n",
    "> 简单理解：可以被for遍历的对象     \n",
    "> 代码层面：如果一个对象实现了__iter__方法，那么这个对象就是可迭代对象"
   ]
  },
  {
   "cell_type": "code",
   "execution_count": 1,
   "metadata": {},
   "outputs": [
    {
     "name": "stdout",
     "output_type": "stream",
     "text": [
      "可\n",
      "迭\n",
      "代\n",
      "对\n",
      "象\n"
     ]
    }
   ],
   "source": [
    "for x in \"可迭代对象\":\n",
    "    print(x)"
   ]
  },
  {
   "cell_type": "markdown",
   "metadata": {},
   "source": [
    "## 共同点\n",
    "\n",
    "> 可迭代对象之间的共同点，可以通过`dir`方法来查看"
   ]
  },
  {
   "cell_type": "code",
   "execution_count": 2,
   "metadata": {},
   "outputs": [],
   "source": [
    "def common_attrs_of_iterable(*iterables):\n",
    "    res = set()\n",
    "    for iterable in iterables:\n",
    "        if not res:\n",
    "            res = set(dir(iterable))\n",
    "        else:\n",
    "            res &= set(dir(iterable))\n",
    "    res -= set(dir(object))\n",
    "    return res"
   ]
  },
  {
   "cell_type": "code",
   "execution_count": 3,
   "metadata": {},
   "outputs": [
    {
     "name": "stdout",
     "output_type": "stream",
     "text": [
      "{'__iter__'}\n"
     ]
    }
   ],
   "source": [
    "import sys\n",
    "iterables = (\"asada\", [\"1\",\"2\",3], {\"1\": 2}, set(), open(sys.argv[0]))\n",
    "common_attrs = common_attrs_of_iterable(*iterables)\n",
    "print(common_attrs)\n"
   ]
  },
  {
   "cell_type": "markdown",
   "metadata": {},
   "source": [
    "## iter方法\n",
    "> 使用内建方法`iter`作用于可迭代对象，会发生什么？"
   ]
  },
  {
   "cell_type": "code",
   "execution_count": 4,
   "metadata": {},
   "outputs": [
    {
     "name": "stdout",
     "output_type": "stream",
     "text": [
      "<str_iterator object at 0x7fc535c710d0>\n",
      "<list_iterator object at 0x7fc535c4cee0>\n",
      "<dict_keyiterator object at 0x7fc535c509f0>\n",
      "<set_iterator object at 0x7fc535c49840>\n",
      "<_io.TextIOWrapper name='/Users/dengrunting/miniconda3/lib/python3.9/site-packages/ipykernel_launcher.py' mode='r' encoding='UTF-8'>\n"
     ]
    }
   ],
   "source": [
    "for iterable in iterables:\n",
    "    print(iter(iterable))"
   ]
  },
  {
   "cell_type": "markdown",
   "metadata": {},
   "source": [
    "可以发现，`iter`方法作用于可迭代对象，返回了一个迭代器对象。"
   ]
  },
  {
   "cell_type": "markdown",
   "metadata": {},
   "source": [
    "## 迭代器\n",
    "> 迭代器又有什么共同属性呢？"
   ]
  },
  {
   "cell_type": "code",
   "execution_count": 5,
   "metadata": {},
   "outputs": [
    {
     "name": "stdout",
     "output_type": "stream",
     "text": [
      "{'__iter__', '__next__'}\n"
     ]
    }
   ],
   "source": [
    "iterators = [iter(iterable) for iterable in iterables]\n",
    "r = common_attrs_of_iterable(*iterators)\n",
    "print(r)"
   ]
  },
  {
   "cell_type": "markdown",
   "metadata": {},
   "source": [
    "如何手动迭代？\n",
    "> 1.构建迭代器iter(iterable)    \n",
    "> 2.迭代next(iterator)取值  \n",
    "> 3.捕获StopIteration异常结束迭代   "
   ]
  },
  {
   "cell_type": "code",
   "execution_count": 6,
   "metadata": {},
   "outputs": [
    {
     "name": "stdout",
     "output_type": "stream",
     "text": [
      "<list_iterator object at 0x7fc535c718e0>\n"
     ]
    }
   ],
   "source": [
    "actions = [\"唱跳\", \"Rap\", \"篮球\"]\n",
    "action_iterator = iter(actions)\n",
    "print(action_iterator)"
   ]
  },
  {
   "cell_type": "code",
   "execution_count": 7,
   "metadata": {},
   "outputs": [
    {
     "data": {
      "text/plain": [
       "'唱跳'"
      ]
     },
     "execution_count": 7,
     "metadata": {},
     "output_type": "execute_result"
    }
   ],
   "source": [
    "next(action_iterator)"
   ]
  },
  {
   "cell_type": "code",
   "execution_count": 8,
   "metadata": {},
   "outputs": [
    {
     "data": {
      "text/plain": [
       "'Rap'"
      ]
     },
     "execution_count": 8,
     "metadata": {},
     "output_type": "execute_result"
    }
   ],
   "source": [
    "next(action_iterator)\n"
   ]
  },
  {
   "cell_type": "code",
   "execution_count": 9,
   "metadata": {},
   "outputs": [
    {
     "data": {
      "text/plain": [
       "'篮球'"
      ]
     },
     "execution_count": 9,
     "metadata": {},
     "output_type": "execute_result"
    }
   ],
   "source": [
    "next(action_iterator)\n"
   ]
  },
  {
   "cell_type": "code",
   "execution_count": 10,
   "metadata": {},
   "outputs": [
    {
     "ename": "StopIteration",
     "evalue": "",
     "output_type": "error",
     "traceback": [
      "\u001b[0;31m---------------------------------------------------------------------------\u001b[0m",
      "\u001b[0;31mStopIteration\u001b[0m                             Traceback (most recent call last)",
      "\u001b[1;32m/Users/dengrunting/data/code/python_asyncio_study/src/01_iterable_and_iterator.ipynb Cell 16'\u001b[0m in \u001b[0;36m<cell line: 1>\u001b[0;34m()\u001b[0m\n\u001b[0;32m----> <a href='vscode-notebook-cell:/Users/dengrunting/data/code/python_asyncio_study/src/01_iterable_and_iterator.ipynb#ch0000015?line=0'>1</a>\u001b[0m \u001b[39mnext\u001b[39;49m(action_iterator)\n",
      "\u001b[0;31mStopIteration\u001b[0m: "
     ]
    }
   ],
   "source": [
    "next(action_iterator)"
   ]
  },
  {
   "cell_type": "markdown",
   "metadata": {},
   "source": [
    "## 自定义迭代器"
   ]
  },
  {
   "cell_type": "code",
   "execution_count": 14,
   "metadata": {},
   "outputs": [],
   "source": [
    "class CustomIterator:\n",
    "    def __init__(self, actions):\n",
    "        self.actions = actions\n",
    "        self.index = 0\n",
    "    \n",
    "    def __next__(self):\n",
    "        while self.index < len(self.actions):\n",
    "            action =  self.actions[self.index]\n",
    "            self.index += 1\n",
    "            return action\n",
    "        raise StopIteration\n"
   ]
  },
  {
   "cell_type": "code",
   "execution_count": 17,
   "metadata": {},
   "outputs": [
    {
     "name": "stdout",
     "output_type": "stream",
     "text": [
      "Rap\n",
      "Rap\n",
      "Rap\n"
     ]
    },
    {
     "ename": "StopIteration",
     "evalue": "",
     "output_type": "error",
     "traceback": [
      "\u001b[0;31m---------------------------------------------------------------------------\u001b[0m",
      "\u001b[0;31mStopIteration\u001b[0m                             Traceback (most recent call last)",
      "\u001b[1;32m/Users/dengrunting/data/code/python_asyncio_study/src/01_iterable_and_iterator.ipynb Cell 19'\u001b[0m in \u001b[0;36m<cell line: 3>\u001b[0;34m()\u001b[0m\n\u001b[1;32m      <a href='vscode-notebook-cell:/Users/dengrunting/data/code/python_asyncio_study/src/01_iterable_and_iterator.ipynb#ch0000018?line=0'>1</a>\u001b[0m custom_iterator \u001b[39m=\u001b[39m CustomIterator(actions)\n\u001b[1;32m      <a href='vscode-notebook-cell:/Users/dengrunting/data/code/python_asyncio_study/src/01_iterable_and_iterator.ipynb#ch0000018?line=1'>2</a>\u001b[0m \u001b[39mwhile\u001b[39;00m \u001b[39mTrue\u001b[39;00m:\n\u001b[0;32m----> <a href='vscode-notebook-cell:/Users/dengrunting/data/code/python_asyncio_study/src/01_iterable_and_iterator.ipynb#ch0000018?line=2'>3</a>\u001b[0m     \u001b[39mprint\u001b[39m(\u001b[39mnext\u001b[39;49m(custom_iterator))\n",
      "\u001b[1;32m/Users/dengrunting/data/code/python_asyncio_study/src/01_iterable_and_iterator.ipynb Cell 18'\u001b[0m in \u001b[0;36mCustomIterator.__next__\u001b[0;34m(self)\u001b[0m\n\u001b[1;32m     <a href='vscode-notebook-cell:/Users/dengrunting/data/code/python_asyncio_study/src/01_iterable_and_iterator.ipynb#ch0000017?line=9'>10</a>\u001b[0m     \u001b[39mself\u001b[39m\u001b[39m.\u001b[39mindex \u001b[39m+\u001b[39m\u001b[39m=\u001b[39m \u001b[39m1\u001b[39m\n\u001b[1;32m     <a href='vscode-notebook-cell:/Users/dengrunting/data/code/python_asyncio_study/src/01_iterable_and_iterator.ipynb#ch0000017?line=10'>11</a>\u001b[0m     \u001b[39mreturn\u001b[39;00m action\n\u001b[0;32m---> <a href='vscode-notebook-cell:/Users/dengrunting/data/code/python_asyncio_study/src/01_iterable_and_iterator.ipynb#ch0000017?line=11'>12</a>\u001b[0m \u001b[39mraise\u001b[39;00m \u001b[39mStopIteration\u001b[39;00m\n",
      "\u001b[0;31mStopIteration\u001b[0m: "
     ]
    }
   ],
   "source": [
    "custom_iterator = CustomIterator(actions)\n",
    "while True:\n",
    "    print(next(custom_iterator))"
   ]
  },
  {
   "cell_type": "code",
   "execution_count": 18,
   "metadata": {},
   "outputs": [
    {
     "ename": "TypeError",
     "evalue": "'CustomIterator' object is not iterable",
     "output_type": "error",
     "traceback": [
      "\u001b[0;31m---------------------------------------------------------------------------\u001b[0m",
      "\u001b[0;31mTypeError\u001b[0m                                 Traceback (most recent call last)",
      "\u001b[1;32m/Users/dengrunting/data/code/python_asyncio_study/src/01_iterable_and_iterator.ipynb Cell 20'\u001b[0m in \u001b[0;36m<cell line: 2>\u001b[0;34m()\u001b[0m\n\u001b[1;32m      <a href='vscode-notebook-cell:/Users/dengrunting/data/code/python_asyncio_study/src/01_iterable_and_iterator.ipynb#ch0000019?line=0'>1</a>\u001b[0m custom_iterator \u001b[39m=\u001b[39m CustomIterator(actions)\n\u001b[0;32m----> <a href='vscode-notebook-cell:/Users/dengrunting/data/code/python_asyncio_study/src/01_iterable_and_iterator.ipynb#ch0000019?line=1'>2</a>\u001b[0m \u001b[39mfor\u001b[39;00m x \u001b[39min\u001b[39;00m custom_iterator:\n\u001b[1;32m      <a href='vscode-notebook-cell:/Users/dengrunting/data/code/python_asyncio_study/src/01_iterable_and_iterator.ipynb#ch0000019?line=2'>3</a>\u001b[0m     \u001b[39mprint\u001b[39m(x)\n",
      "\u001b[0;31mTypeError\u001b[0m: 'CustomIterator' object is not iterable"
     ]
    }
   ],
   "source": [
    "custom_iterator = CustomIterator(actions)\n",
    "for x in custom_iterator:\n",
    "    print(x)"
   ]
  },
  {
   "cell_type": "code",
   "execution_count": 22,
   "metadata": {},
   "outputs": [
    {
     "name": "stdout",
     "output_type": "stream",
     "text": [
      "1\n",
      "1\n",
      "1\n"
     ]
    }
   ],
   "source": [
    "# 完善一下\n",
    "# class CustomIterator:\n",
    "#     def __init__(self, actions):\n",
    "#         self.actions = actions\n",
    "#         self.index = 0\n",
    "    \n",
    "#     def __next__(self):\n",
    "#         while self.index < len(self.actions):\n",
    "#             action =  self.actions[self.index]\n",
    "#             self.index += 1\n",
    "#             return action\n",
    "#         raise StopIteration\n",
    "    \n",
    "#     def __iter__(self):\n",
    "#         return self\n",
    "\n",
    "class MyLiterator:\n",
    "    def __init__(self, x):\n",
    "        self.index = 0\n",
    "\n",
    "    def __iter__(self):\n",
    "        return self\n",
    "\n",
    "    def __next__(self):\n",
    "        while self.index < 3:\n",
    "            self.index += 1\n",
    "            return 1\n",
    "        raise StopIteration\n",
    "\n",
    "\n",
    "for x in MyLiterator(actions):\n",
    "    print(x)\n"
   ]
  },
  {
   "cell_type": "code",
   "execution_count": 23,
   "metadata": {},
   "outputs": [
    {
     "name": "stdout",
     "output_type": "stream",
     "text": [
      "0.5232164866852695\n",
      "0.8032723839768025\n",
      "0.6670658517004742\n",
      "0.3748557003178673\n",
      "0.6382065198742508\n",
      "0.1727997060456543\n",
      "0.5855345197232678\n",
      "0.9218768394831683\n",
      "0.18358142984714687\n",
      "0.32148604175201434\n",
      "0.7444855546607054\n",
      "0.13939404082633466\n",
      "0.10373657428388339\n",
      "0.47740973388092767\n",
      "0.5984310561175242\n"
     ]
    }
   ],
   "source": [
    "# 无限产生数据\n",
    "from random import random\n",
    "\n",
    "class Random:\n",
    "\n",
    "    def __iter__(self):\n",
    "        return self\n",
    "    \n",
    "    def __next__(self):\n",
    "        return random()\n",
    "i = 0\n",
    "for x in Random():\n",
    "    print(x)\n",
    "    i += 1\n",
    "    if i == 15:\n",
    "        break"
   ]
  },
  {
   "cell_type": "markdown",
   "metadata": {},
   "source": [
    "## 总结\n",
    "> 可迭代对象: `__iter__`    \n",
    "> 迭代器: `__iter__`和`__next__`\n",
    "\n",
    "![迭代器协议](https://raw.githubusercontent.com/fadeawaylove/article-images/master/img/20220630152935.png)\n"
   ]
  },
  {
   "cell_type": "markdown",
   "metadata": {},
   "source": []
  }
 ],
 "metadata": {
  "kernelspec": {
   "display_name": "Python 3.9.12 ('base')",
   "language": "python",
   "name": "python3"
  },
  "language_info": {
   "codemirror_mode": {
    "name": "ipython",
    "version": 3
   },
   "file_extension": ".py",
   "mimetype": "text/x-python",
   "name": "python",
   "nbconvert_exporter": "python",
   "pygments_lexer": "ipython3",
   "version": "3.9.12"
  },
  "orig_nbformat": 4,
  "vscode": {
   "interpreter": {
    "hash": "a32b7d253e12492c038efbc624006d102b0d290a52d9297b9fabe3b230952e2b"
   }
  }
 },
 "nbformat": 4,
 "nbformat_minor": 2
}
