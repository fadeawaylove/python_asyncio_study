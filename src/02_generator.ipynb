{
 "cells": [
  {
   "cell_type": "markdown",
   "metadata": {},
   "source": [
    "## 生成器\n",
    "\n",
    "![生成器](https://raw.githubusercontent.com/fadeawaylove/article-images/master/img/20220630180044.png)"
   ]
  },
  {
   "cell_type": "code",
   "execution_count": 19,
   "metadata": {},
   "outputs": [],
   "source": [
    "def gen():\n",
    "    print(\"hello\")\n",
    "    if 0:\n",
    "        yield"
   ]
  },
  {
   "cell_type": "code",
   "execution_count": 20,
   "metadata": {},
   "outputs": [
    {
     "name": "stdout",
     "output_type": "stream",
     "text": [
      "<generator object gen at 0x7f8c218e0b30>\n"
     ]
    }
   ],
   "source": [
    "g = gen()\n",
    "print(g)"
   ]
  },
  {
   "cell_type": "code",
   "execution_count": 21,
   "metadata": {},
   "outputs": [
    {
     "name": "stdout",
     "output_type": "stream",
     "text": [
      "<function gen at 0x7f8c21a2df70> <generator object gen at 0x7f8c21a2e4a0>\n"
     ]
    }
   ],
   "source": [
    "print(gen, gen())"
   ]
  },
  {
   "cell_type": "code",
   "execution_count": 22,
   "metadata": {},
   "outputs": [
    {
     "name": "stdout",
     "output_type": "stream",
     "text": [
      "True\n",
      "True\n",
      "False\n",
      "True\n"
     ]
    }
   ],
   "source": [
    "import inspect\n",
    "# 是函数，也是生成器函数\n",
    "print(inspect.isfunction(gen))\n",
    "print(inspect.isgeneratorfunction(gen))\n",
    "\n",
    "# 生成器函数不是generator，他的返回值是generator\n",
    "print(inspect.isgenerator(gen))\n",
    "print(inspect.isgenerator(gen()))"
   ]
  },
  {
   "cell_type": "code",
   "execution_count": 23,
   "metadata": {},
   "outputs": [
    {
     "data": {
      "text/plain": [
       "{'__del__',\n",
       " '__iter__',\n",
       " '__name__',\n",
       " '__next__',\n",
       " '__qualname__',\n",
       " 'close',\n",
       " 'gi_code',\n",
       " 'gi_frame',\n",
       " 'gi_running',\n",
       " 'gi_yieldfrom',\n",
       " 'send',\n",
       " 'throw'}"
      ]
     },
     "execution_count": 23,
     "metadata": {},
     "output_type": "execute_result"
    }
   ],
   "source": [
    "# 生成器对象也是迭代器\n",
    "set(dir(gen())) - set(dir(object))"
   ]
  },
  {
   "cell_type": "markdown",
   "metadata": {},
   "source": [
    "## 使用示例\n",
    "> 运行生成器方法，得到一个生成器对象    \n",
    "> `next`不断运行获取生成器返回的值  \n",
    "> `StopIteration`异常则停止 "
   ]
  },
  {
   "cell_type": "code",
   "execution_count": 12,
   "metadata": {},
   "outputs": [],
   "source": [
    "def gen666(meet_yield=False):\n",
    "    print(\"hello\")\n",
    "    if meet_yield:\n",
    "        print(\"yield\")\n",
    "        yield 666\n",
    "        print('back!')\n",
    "    print(\"bye\")\n",
    "    return 'result'"
   ]
  },
  {
   "cell_type": "code",
   "execution_count": 27,
   "metadata": {},
   "outputs": [
    {
     "name": "stdout",
     "output_type": "stream",
     "text": [
      "hello\n",
      "bye\n"
     ]
    },
    {
     "ename": "StopIteration",
     "evalue": "result",
     "output_type": "error",
     "traceback": [
      "\u001b[0;31m---------------------------------------------------------------------------\u001b[0m",
      "\u001b[0;31mStopIteration\u001b[0m                             Traceback (most recent call last)",
      "\u001b[1;32m/Users/dengrunting/data/code/python_asyncio_study/src/02_generator.ipynb Cell 9'\u001b[0m in \u001b[0;36m<cell line: 2>\u001b[0;34m()\u001b[0m\n\u001b[1;32m      <a href='vscode-notebook-cell:/Users/dengrunting/data/code/python_asyncio_study/src/02_generator.ipynb#ch0000010?line=0'>1</a>\u001b[0m g2 \u001b[39m=\u001b[39m gen666()\n\u001b[0;32m----> <a href='vscode-notebook-cell:/Users/dengrunting/data/code/python_asyncio_study/src/02_generator.ipynb#ch0000010?line=1'>2</a>\u001b[0m x2 \u001b[39m=\u001b[39m \u001b[39mnext\u001b[39;49m(g2)\n",
      "\u001b[0;31mStopIteration\u001b[0m: result"
     ]
    }
   ],
   "source": [
    "g2 = gen666()\n",
    "x2 = next(g2)"
   ]
  },
  {
   "cell_type": "code",
   "execution_count": 29,
   "metadata": {},
   "outputs": [
    {
     "name": "stdout",
     "output_type": "stream",
     "text": [
      "hello\n",
      "yield\n",
      "666\n",
      "back!\n",
      "bye\n"
     ]
    },
    {
     "ename": "StopIteration",
     "evalue": "result",
     "output_type": "error",
     "traceback": [
      "\u001b[0;31m---------------------------------------------------------------------------\u001b[0m",
      "\u001b[0;31mStopIteration\u001b[0m                             Traceback (most recent call last)",
      "\u001b[1;32m/Users/dengrunting/data/code/python_asyncio_study/src/02_generator.ipynb Cell 10'\u001b[0m in \u001b[0;36m<cell line: 5>\u001b[0;34m()\u001b[0m\n\u001b[1;32m      <a href='vscode-notebook-cell:/Users/dengrunting/data/code/python_asyncio_study/src/02_generator.ipynb#ch0000011?line=1'>2</a>\u001b[0m x2 \u001b[39m=\u001b[39m \u001b[39mnext\u001b[39m(g2)\n\u001b[1;32m      <a href='vscode-notebook-cell:/Users/dengrunting/data/code/python_asyncio_study/src/02_generator.ipynb#ch0000011?line=2'>3</a>\u001b[0m \u001b[39mprint\u001b[39m(x2)\n\u001b[0;32m----> <a href='vscode-notebook-cell:/Users/dengrunting/data/code/python_asyncio_study/src/02_generator.ipynb#ch0000011?line=4'>5</a>\u001b[0m \u001b[39mnext\u001b[39;49m(g2)\n",
      "\u001b[0;31mStopIteration\u001b[0m: result"
     ]
    }
   ],
   "source": [
    "g2 = gen666(True)\n",
    "x2 = next(g2)\n",
    "print(x2)\n",
    "\n",
    "next(g2)"
   ]
  },
  {
   "cell_type": "markdown",
   "metadata": {},
   "source": [
    "## 手动实现`__iter__`接口"
   ]
  },
  {
   "cell_type": "markdown",
   "metadata": {},
   "source": [
    "### 1.用可迭代对象和迭代器（老方式）"
   ]
  },
  {
   "cell_type": "code",
   "execution_count": 30,
   "metadata": {},
   "outputs": [],
   "source": [
    "class MyCustomDataIterator:\n",
    "    def __init__(self, data):\n",
    "        self.data = data\n",
    "        self.index = 0\n",
    "\n",
    "    def __iter__(self):\n",
    "        return self\n",
    "\n",
    "    def __next__(self):\n",
    "        if self.index < self.data.size:\n",
    "            self.index += 1\n",
    "            return self.data.get_value(self.index-1)\n",
    "        else:\n",
    "            raise StopIteration\n",
    "\n",
    "class MyCustomData:\n",
    "\n",
    "    def __init__(self):\n",
    "        self.data = [1,2,3,4]\n",
    "\n",
    "    @property\n",
    "    def size(self):\n",
    "        return len(self.data)\n",
    "\n",
    "    def get_value(self, index):\n",
    "        return self.data[index]\n",
    "    \n",
    "    def __iter__(self):\n",
    "        return MyCustomDataIterator(self)"
   ]
  },
  {
   "cell_type": "code",
   "execution_count": 31,
   "metadata": {},
   "outputs": [
    {
     "name": "stdout",
     "output_type": "stream",
     "text": [
      "1\n",
      "2\n",
      "3\n",
      "4\n"
     ]
    }
   ],
   "source": [
    "for x in MyCustomData():\n",
    "    print(x)"
   ]
  },
  {
   "cell_type": "markdown",
   "metadata": {},
   "source": [
    "### 2.使用yield（新方式）"
   ]
  },
  {
   "cell_type": "code",
   "execution_count": 32,
   "metadata": {},
   "outputs": [
    {
     "name": "stdout",
     "output_type": "stream",
     "text": [
      "1\n",
      "2\n",
      "3\n",
      "4\n"
     ]
    }
   ],
   "source": [
    "class MyCustomData:\n",
    "\n",
    "    def __init__(self):\n",
    "        self.data = [1,2,3,4]\n",
    "\n",
    "    @property\n",
    "    def size(self):\n",
    "        return len(self.data)\n",
    "\n",
    "    def get_value(self, index):\n",
    "        return self.data[index]\n",
    "    \n",
    "    def __iter__(self):\n",
    "        for x in self.data:\n",
    "            yield x\n",
    "            \n",
    "for x in MyCustomData():\n",
    "    print(x)"
   ]
  },
  {
   "cell_type": "code",
   "execution_count": 34,
   "metadata": {},
   "outputs": [],
   "source": [
    "a = iter(MyCustomData())"
   ]
  },
  {
   "cell_type": "code",
   "execution_count": 36,
   "metadata": {},
   "outputs": [
    {
     "data": {
      "text/plain": [
       "3"
      ]
     },
     "execution_count": 36,
     "metadata": {},
     "output_type": "execute_result"
    }
   ],
   "source": [
    "next(a)\n",
    "next(a)"
   ]
  },
  {
   "cell_type": "code",
   "execution_count": 37,
   "metadata": {},
   "outputs": [
    {
     "data": {
      "text/plain": [
       "4"
      ]
     },
     "execution_count": 37,
     "metadata": {},
     "output_type": "execute_result"
    }
   ],
   "source": [
    "next(a)"
   ]
  },
  {
   "cell_type": "code",
   "execution_count": 38,
   "metadata": {},
   "outputs": [
    {
     "ename": "StopIteration",
     "evalue": "",
     "output_type": "error",
     "traceback": [
      "\u001b[0;31m---------------------------------------------------------------------------\u001b[0m",
      "\u001b[0;31mStopIteration\u001b[0m                             Traceback (most recent call last)",
      "\u001b[1;32m/Users/dengrunting/data/code/python_asyncio_study/src/02_generator.ipynb Cell 20'\u001b[0m in \u001b[0;36m<cell line: 1>\u001b[0;34m()\u001b[0m\n\u001b[0;32m----> <a href='vscode-notebook-cell:/Users/dengrunting/data/code/python_asyncio_study/src/02_generator.ipynb#ch0000021?line=0'>1</a>\u001b[0m \u001b[39mnext\u001b[39;49m(a)\n",
      "\u001b[0;31mStopIteration\u001b[0m: "
     ]
    }
   ],
   "source": [
    "next(a)"
   ]
  },
  {
   "cell_type": "markdown",
   "metadata": {},
   "source": []
  }
 ],
 "metadata": {
  "kernelspec": {
   "display_name": "Python 3.9.12 ('base')",
   "language": "python",
   "name": "python3"
  },
  "language_info": {
   "codemirror_mode": {
    "name": "ipython",
    "version": 3
   },
   "file_extension": ".py",
   "mimetype": "text/x-python",
   "name": "python",
   "nbconvert_exporter": "python",
   "pygments_lexer": "ipython3",
   "version": "3.9.12"
  },
  "orig_nbformat": 4,
  "vscode": {
   "interpreter": {
    "hash": "a32b7d253e12492c038efbc624006d102b0d290a52d9297b9fabe3b230952e2b"
   }
  }
 },
 "nbformat": 4,
 "nbformat_minor": 2
}
